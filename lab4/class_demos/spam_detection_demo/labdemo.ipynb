{
 "cells": [
  {
   "cell_type": "markdown",
   "metadata": {
    "colab_type": "text",
    "id": "sKqrJMOKffAw"
   },
   "source": [
    "# Detecting ham vs. spam SMS messages\n",
    "\n",
    "In this Jupyter notebook, we will study a dataset comprised of SMS tagged messages that are either \"ham\" (i.e., benign) or \"spam\" (i.e., annoying) [1]. The purpose of this is to again demonstrate a standard supervised learning pipeline, consisting of feature extraction, creating a train/test split, training a classfier, analyzing the results, and iterating on this process until we obtain satisfactory performance. Parts of this notebook were reproduced from [2].\n",
    "\n",
    "Below is a brief description of the ham vs. spam dataset:\n",
    "\n",
    "- **Warning: Messages may include offensive content.**\n",
    "\n",
    "- The SMS Spam Collection v.1 (text file: smsspamcollection) has a total of 4,827 SMS legitimate messages (86.6%) and a total of 747 (13.4%) spam messages. Note that messages are not chronologically sorted, so there is no temporal aspect to the dataset.\n",
    "\n",
    "- The files contain one message per line. Each line is composed by two columns: one with label (ham or spam) and other with the raw text. Here are some examples:\n",
    "```\n",
    "ham   What you doing?how are you?\n",
    "ham   Ok lar... Joking wif u oni...\n",
    "ham   dun say so early hor... U c already then say...\n",
    "ham   MY NO. IN LUTON 0125698789 RING ME IF UR AROUND! H*\n",
    "ham   Siva is in hostel aha:-.\n",
    "ham   Cos i was out shopping wif darren jus now n i called him 2 ask wat present he wan lor. Then he started guessing who i was wif n he finally guessed darren lor.\n",
    "spam   FreeMsg: Txt: CALL to No: 86888 & claim your reward of 3 hours talk time to use from your phone now! ubscribe6GBP/ mnth inc 3hrs 16 stop?txtStop\n",
    "spam   Sunshine Quiz! Win a super Sony DVD recorder if you canname the capital of Australia? Text MQUIZ to 82277. B\n",
    "spam   URGENT! Your Mobile No 07808726822 was awarded a L2,000 Bonus Caller Prize on 02/09/03! This is our 2nd attempt to contact YOU! Call 0871-872-9758 BOX95QU\n",
    "```\n",
    "\n",
    "### References\n",
    "\n",
    "[1] http://archive.ics.uci.edu/ml/datasets/SMS+Spam+Collection\n",
    "\n",
    "[2] https://etav.github.io/projects/spam_message_classifier_naive_bayes.html"
   ]
  },
  {
   "cell_type": "markdown",
   "metadata": {
    "colab_type": "text",
    "id": "TFQANgUyU8RS"
   },
   "source": [
    "## Load data\n",
    "For this exercise, the data collection and pre-processing steps have already been completed as described earlier, and that we only need to load this dataset in order to start using it.\n",
    "\n",
    "Note that since we are trying to detect spam, we label spam messages as members of the positive class (+1) and ham (i.e., normal) ones as members of the negative class (-1). This will be significant later on when we analyze the performance of our classifiers by considering their precision, recall, false positives, false negatives, etc."
   ]
  },
  {
   "cell_type": "code",
   "execution_count": 2,
   "metadata": {
    "colab": {},
    "colab_type": "code",
    "id": "JmB2lg-v0Kxg"
   },
   "outputs": [],
   "source": [
    "import sklearn\n",
    "import pandas as pd\n",
    "# Dataset from - https://archive.ics.uci.edu/ml/datasets/SMS+Spam+Collection\n",
    "df = pd.read_table('data/SMSSpamCollection',\n",
    "                   sep='\\t',\n",
    "                   header=None,\n",
    "                   names=['label', 'sms_message'])"
   ]
  },
  {
   "cell_type": "markdown",
   "metadata": {
    "colab_type": "text",
    "id": "rlk8Fh3I4r-L"
   },
   "source": [
    "### Examples from dataset\n",
    "Let's first look at some examples of normal and obfuscated bash commands to better understand the task at hand. This step of manually inspecting the data and trying to understand its features and peculiarities is an important and necessary one, as it informs us on the type of model we may want to use to best solve our problem."
   ]
  },
  {
   "cell_type": "code",
   "execution_count": null,
   "metadata": {
    "colab": {
     "base_uri": "https://localhost:8080/",
     "height": 419
    },
    "colab_type": "code",
    "id": "U8Iao9y6hx8t",
    "outputId": "474e819f-bbcc-45a7-f52e-fb3ee075629b"
   },
   "outputs": [],
   "source": [
    "# Examples of ham\n",
    "df.loc[df['label'] == 'ham']"
   ]
  },
  {
   "cell_type": "code",
   "execution_count": null,
   "metadata": {
    "colab": {
     "base_uri": "https://localhost:8080/",
     "height": 419
    },
    "colab_type": "code",
    "id": "IpcXVVkjkS9m",
    "outputId": "6af2c137-e3c2-4ee5-ea72-126a7705e9b4"
   },
   "outputs": [],
   "source": [
    "# Examples of spam\n",
    "df.loc[df['label'] == 'spam']"
   ]
  },
  {
   "cell_type": "markdown",
   "metadata": {
    "colab_type": "text",
    "id": "k0DjVKblaGVh"
   },
   "source": [
    "## Train/test split\n",
    "In order to not overfit the model and miscalculate its true performance, we must first split the dataset into a training set and a test set. In the following sections, we will train a model using feature vectors and corresponding labels from the training set (see **Model training**), and evaluate its performance by predicting labels using only feature vectors from the test set (see **Inference**).\n",
    "\n",
    "_Note: In this example, we have performed our train/test split prior to doing any feature extraction. Do you think this makes any difference?_"
   ]
  },
  {
   "cell_type": "code",
   "execution_count": 3,
   "metadata": {
    "colab": {
     "base_uri": "https://localhost:8080/",
     "height": 68
    },
    "colab_type": "code",
    "id": "Eq9eeBhQaJva",
    "outputId": "5016251c-53b2-4d9e-a33d-746a390d482d"
   },
   "outputs": [
    {
     "name": "stdout",
     "output_type": "stream",
     "text": [
      "Original set: 5572 observations\n",
      "Training set: 2786 observations\n",
      "    Test set: 2786 observations\n"
     ]
    }
   ],
   "source": [
    "# Create train/test split\n",
    "from sklearn.model_selection import train_test_split\n",
    "\n",
    "# Include indices for tracking of individual data points after splitting\n",
    "raw_train_data, raw_test_data, train_labels, test_labels = train_test_split(df['sms_message'], df['label'], test_size=0.5, random_state=0)\n",
    "#raw_train_data, raw_test_data, train_labels, test_labels, train_indices, test_indices = train_test_split(df['sms_message'], df['label'], pd.Series(df.index), test_size=0.5, random_state=0)\n",
    "\n",
    "print(\"Original set:\", df.shape[0], \"observations\")\n",
    "print(\"Training set:\", raw_train_data.shape[0], \"observations\")\n",
    "print(\"    Test set:\", raw_test_data.shape[0], \"observations\")"
   ]
  },
  {
   "cell_type": "markdown",
   "metadata": {
    "colab_type": "text",
    "id": "DWZuvfKIVFJM"
   },
   "source": [
    "## Feature extraction\n",
    "We now perform feature extraction on a labeled dataset comprised of both normal and obfuscated commands. To do this, we will use the `CountVectorizer` function in scikit-learn to generate a set of features based on $n$-grams of words or characters (or some other user-specified criterion), then compute the number of occurrences of every feature within each command. Each such count vector can be thought of a vector representation (e.g., an embedding) of the command from which it was generated."
   ]
  },
  {
   "cell_type": "code",
   "execution_count": null,
   "metadata": {
    "colab": {
     "base_uri": "https://localhost:8080/",
     "height": 71
    },
    "colab_type": "code",
    "id": "BlJXAcZE0P0d",
    "outputId": "b6f87a75-522a-4107-baf6-3c4acae27262"
   },
   "outputs": [],
   "source": [
    "# Build feature extractor\n",
    "from sklearn.feature_extraction.text import CountVectorizer\n",
    "count_vect = CountVectorizer()  # word feature extraction\n",
    "#count_vect = CountVectorizer(analyzer='char', ngram_range=(1,2))  # character n-gram feature extraction\n",
    "\n",
    "# Extract feature counts\n",
    "raw_train_counts = count_vect.fit_transform(raw_train_data)\n",
    "raw_test_counts = count_vect.transform(raw_test_data)\n",
    "\n",
    "# Display features\n",
    "features = count_vect.get_feature_names()\n",
    "print('Feature set: ' + str(features))\n",
    "print('Number of features: ' + str(len(features)))"
   ]
  },
  {
   "cell_type": "code",
   "execution_count": 5,
   "metadata": {
    "colab": {},
    "colab_type": "code",
    "id": "BcgqjOtGBi7n"
   },
   "outputs": [],
   "source": [
    "# Normalize counts\n",
    "from sklearn.feature_extraction.text import TfidfTransformer\n",
    "tf_transformer = TfidfTransformer(use_idf=False)\n",
    "train_data = tf_transformer.fit_transform(raw_train_counts)\n",
    "test_data = tf_transformer.transform(raw_test_counts)"
   ]
  },
  {
   "cell_type": "markdown",
   "metadata": {
    "colab_type": "text",
    "id": "ItVaVhl8U2PD"
   },
   "source": [
    "## Model training\n",
    "Next, we can train a classifier that tries to learn which parts of the feature space correspond to each of the two classes: normal vs. obfuscated. We will focus on logistic regression (a linear model) and random forest (a non-linear, ensemble method) in order to illustrate how these classifiers can be utilized, and will later show how their results can be analyzed and interpreted."
   ]
  },
  {
   "cell_type": "markdown",
   "metadata": {
    "colab_type": "text",
    "id": "HTMGlhQRaO8k"
   },
   "source": [
    "### Random forest (ensemble of decision trees)\n"
   ]
  },
  {
   "cell_type": "code",
   "execution_count": 11,
   "metadata": {
    "colab": {},
    "colab_type": "code",
    "id": "tCeBl8LFZzBB"
   },
   "outputs": [],
   "source": [
    "# Train a random forest classifier\n",
    "from sklearn.ensemble import RandomForestClassifier\n",
    "classifier = RandomForestClassifier(n_estimators=250, max_depth=5, random_state=0).fit(train_data, train_labels)\n",
    "classifier_type = 'random forest'"
   ]
  },
  {
   "cell_type": "code",
   "execution_count": null,
   "metadata": {
    "colab": {},
    "colab_type": "code",
    "id": "0CmzUwA2KR3W"
   },
   "outputs": [],
   "source": [
    "# Train a decision tree classifier\n",
    "from sklearn.tree import DecisionTreeClassifier\n",
    "classifier = DecisionTreeClassifier(max_depth=5).fit(train_data, train_labels)\n",
    "classifier_type = 'decision tree'"
   ]
  },
  {
   "cell_type": "markdown",
   "metadata": {
    "colab_type": "text",
    "id": "TEWlECL4aG38"
   },
   "source": [
    "### Logistic regression"
   ]
  },
  {
   "cell_type": "code",
   "execution_count": 8,
   "metadata": {
    "colab": {},
    "colab_type": "code",
    "id": "ER8--rFz5rut"
   },
   "outputs": [
    {
     "name": "stderr",
     "output_type": "stream",
     "text": [
      "C:\\Users\\Lucy\\AppData\\Local\\Packages\\PythonSoftwareFoundation.Python.3.8_qbz5n2kfra8p0\\LocalCache\\local-packages\\Python38\\site-packages\\sklearn\\linear_model\\_stochastic_gradient.py:173: FutureWarning: The loss 'log' was deprecated in v1.1 and will be removed in version 1.3. Use `loss='log_loss'` which is equivalent.\n",
      "  warnings.warn(\n"
     ]
    }
   ],
   "source": [
    "# Train a logistic regression classifier using stochastic gradient descent (SGD)\n",
    "from sklearn.linear_model import SGDClassifier\n",
    "classifier = SGDClassifier(loss='log', penalty='none', random_state=0).fit(train_data, train_labels)\n",
    "classifier_type = 'logistic regression'"
   ]
  },
  {
   "cell_type": "markdown",
   "metadata": {
    "colab_type": "text",
    "id": "HAfVCiNqZ32u"
   },
   "source": [
    "## Inference\n",
    "In this section, we apply the trained classifier to the test set and study its performance using a series of metrics. We can also take a closer look at those examples that were misclassified and try to discern the reasons why prediction failed. To do this, we inspect coefficients within the trained model in order gain a better understanding of what it has learned and how it could potentially be improved."
   ]
  },
  {
   "cell_type": "code",
   "execution_count": 9,
   "metadata": {
    "colab": {},
    "colab_type": "code",
    "id": "mcWq9G644GsN"
   },
   "outputs": [],
   "source": [
    "# Predict labels for test data\n",
    "predicted_labels = classifier.predict(test_data)"
   ]
  },
  {
   "cell_type": "markdown",
   "metadata": {
    "colab_type": "text",
    "id": "g_1kOICNo3bs"
   },
   "source": [
    "### Analyze performance\n",
    "We consider the performance of our classifier by looking at metrics such as precision, recall, F1-measure, and accuracy. These can also be built using the confusion matrix, which is essentially a histogram of the predicted labels and true lables of examples in the test set."
   ]
  },
  {
   "cell_type": "code",
   "execution_count": 12,
   "metadata": {
    "colab": {
     "base_uri": "https://localhost:8080/",
     "height": 187
    },
    "colab_type": "code",
    "id": "gujD1MssveIQ",
    "outputId": "64bc6c99-5f6a-427e-b8f6-1d9127a661c8"
   },
   "outputs": [
    {
     "name": "stdout",
     "output_type": "stream",
     "text": [
      " precision = 0.9553571428571429\n",
      "    recall = 0.889196675900277\n",
      "F1-measure = 0.921090387374462\n",
      "  accuracy = 0.9802584350323044\n",
      "\n",
      "\n",
      "Confusion matrix (text-only):\n"
     ]
    },
    {
     "ename": "TypeError",
     "evalue": "confusion_matrix() takes 2 positional arguments but 3 were given",
     "output_type": "error",
     "traceback": [
      "\u001b[1;31m---------------------------------------------------------------------------\u001b[0m",
      "\u001b[1;31mTypeError\u001b[0m                                 Traceback (most recent call last)",
      "\u001b[1;32m~\\AppData\\Local\\Temp/ipykernel_10600/1566340699.py\u001b[0m in \u001b[0;36m<module>\u001b[1;34m\u001b[0m\n\u001b[0;32m     19\u001b[0m \u001b[1;31m# Confusion matrix\u001b[0m\u001b[1;33m\u001b[0m\u001b[1;33m\u001b[0m\u001b[1;33m\u001b[0m\u001b[0m\n\u001b[0;32m     20\u001b[0m \u001b[0mprint\u001b[0m\u001b[1;33m(\u001b[0m\u001b[1;34m'Confusion matrix (text-only):'\u001b[0m\u001b[1;33m)\u001b[0m\u001b[1;33m\u001b[0m\u001b[1;33m\u001b[0m\u001b[0m\n\u001b[1;32m---> 21\u001b[1;33m \u001b[0mcm\u001b[0m \u001b[1;33m=\u001b[0m \u001b[0mmetrics\u001b[0m\u001b[1;33m.\u001b[0m\u001b[0mconfusion_matrix\u001b[0m\u001b[1;33m(\u001b[0m\u001b[0mtest_labels\u001b[0m\u001b[1;33m,\u001b[0m \u001b[0mpredicted_labels\u001b[0m\u001b[1;33m,\u001b[0m \u001b[0mclassifier\u001b[0m\u001b[1;33m.\u001b[0m\u001b[0mclasses_\u001b[0m\u001b[1;33m)\u001b[0m\u001b[1;33m\u001b[0m\u001b[1;33m\u001b[0m\u001b[0m\n\u001b[0m\u001b[0;32m     22\u001b[0m \u001b[0mprint\u001b[0m\u001b[1;33m(\u001b[0m\u001b[0mclassifier\u001b[0m\u001b[1;33m.\u001b[0m\u001b[0mclasses_\u001b[0m\u001b[1;33m)\u001b[0m\u001b[1;33m\u001b[0m\u001b[1;33m\u001b[0m\u001b[0m\n\u001b[0;32m     23\u001b[0m \u001b[0mprint\u001b[0m\u001b[1;33m(\u001b[0m\u001b[0mcm\u001b[0m\u001b[1;33m)\u001b[0m\u001b[1;33m\u001b[0m\u001b[1;33m\u001b[0m\u001b[0m\n",
      "\u001b[1;31mTypeError\u001b[0m: confusion_matrix() takes 2 positional arguments but 3 were given"
     ]
    }
   ],
   "source": [
    "# Analyze performance\n",
    "from sklearn import metrics\n",
    "\n",
    "# Classification report\n",
    "#print(metrics.classification_report(test_labels, predicted_labels))\n",
    "\n",
    "# Standard metrics\n",
    "precision = metrics.precision_score(test_labels, predicted_labels, pos_label='spam')\n",
    "recall = metrics.recall_score(test_labels, predicted_labels, pos_label='spam')\n",
    "f1measure = metrics.f1_score(test_labels, predicted_labels, pos_label='spam')\n",
    "accuracy = metrics.accuracy_score(test_labels, predicted_labels)\n",
    "\n",
    "print(' precision = ' + str(precision))\n",
    "print('    recall = ' + str(recall))\n",
    "print('F1-measure = ' + str(f1measure))\n",
    "print('  accuracy = ' + str(accuracy))\n",
    "print('\\n')\n",
    "\n",
    "# Confusion matrix\n",
    "print('Confusion matrix (text-only):')\n",
    "cm = metrics.confusion_matrix(test_labels, predicted_labels, classifier.classes_)\n",
    "print(classifier.classes_)\n",
    "print(cm)"
   ]
  },
  {
   "cell_type": "code",
   "execution_count": 13,
   "metadata": {
    "colab": {
     "base_uri": "https://localhost:8080/",
     "height": 694
    },
    "colab_type": "code",
    "id": "G5jhQUAxv1Fo",
    "outputId": "57106e62-8e50-4ec2-9aec-7b84d9d322f9"
   },
   "outputs": [
    {
     "data": {
      "image/png": "[encoded data removed]",
      "text/plain": [
       "<Figure size 432x288 with 2 Axes>"
      ]
     },
     "metadata": {
      "needs_background": "light"
     },
     "output_type": "display_data"
    },
    {
     "data": {
      "image/png": "[encoded data removed]",
      "text/plain": [
       "<Figure size 432x288 with 2 Axes>"
      ]
     },
     "metadata": {
      "needs_background": "light"
     },
     "output_type": "display_data"
    }
   ],
   "source": [
    "# Plot fancy confusion matrix\n",
    "# Reference: https://scikit-learn.org/stable/auto_examples/model_selection/plot_confusion_matrix.html\n",
    "import matplotlib.pyplot as plt\n",
    "import numpy as np\n",
    "\n",
    "def plot_confusion_matrix(y_true, y_pred, classes,\n",
    "                          normalize=False,\n",
    "                          title=None,\n",
    "                          cmap=plt.cm.Blues):\n",
    "    \"\"\"\n",
    "    This function prints and plots the confusion matrix.\n",
    "    Normalization can be applied by setting `normalize=True`.\n",
    "    \"\"\"\n",
    "    if not title:\n",
    "        if normalize:\n",
    "            title = 'Normalized confusion matrix'\n",
    "        else:\n",
    "            title = 'Confusion matrix, without normalization'\n",
    "\n",
    "    # Compute confusion matrix\n",
    "    cm = metrics.confusion_matrix(y_true, y_pred)\n",
    "    if normalize:\n",
    "        cm = cm.astype('float') / cm.sum(axis=1)[:, np.newaxis]\n",
    "    #    print(\"Normalized confusion matrix\")\n",
    "    #else:\n",
    "    #    print('Confusion matrix, without normalization')\n",
    "        \n",
    "    fig, ax = plt.subplots()\n",
    "    im = ax.imshow(cm, interpolation='nearest', cmap=cmap)\n",
    "    ax.figure.colorbar(im, ax=ax)\n",
    "    # We want to show all ticks...\n",
    "    ax.set(xticks=np.arange(cm.shape[1]),\n",
    "           yticks=np.arange(cm.shape[0]),\n",
    "           # ... and label them with the respective list entries\n",
    "           xticklabels=classes, yticklabels=classes,\n",
    "           title=title,\n",
    "           ylabel='True label',\n",
    "           xlabel='Predicted label')\n",
    "\n",
    "    # Rotate the tick labels and set their alignment.\n",
    "    plt.setp(ax.get_xticklabels(), rotation=45, ha=\"right\",\n",
    "             rotation_mode=\"anchor\")\n",
    "\n",
    "    # Loop over data dimensions and create text annotations.\n",
    "    fmt = '.4f' if normalize else 'd'\n",
    "    thresh = cm.max() / 2.\n",
    "    for i in range(cm.shape[0]):\n",
    "        for j in range(cm.shape[1]):\n",
    "            ax.text(j, i, format(cm[i, j], fmt),\n",
    "                    ha=\"center\", va=\"center\",\n",
    "                    color=\"white\" if cm[i, j] > thresh else \"black\")\n",
    "    fig.tight_layout()\n",
    "    return ax\n",
    "\n",
    "np.set_printoptions(precision=4)\n",
    "\n",
    "\n",
    "# Pretty plot non-normalized confusion matrix\n",
    "plot_confusion_matrix(test_labels, predicted_labels, classes=['normal','obfuscated'],\n",
    "                      title='Confusion matrix, without normalization')\n",
    "\n",
    "# Pretty plot normalized confusion matrix\n",
    "plot_confusion_matrix(test_labels, predicted_labels, classes=['normal','obfuscated'], normalize=True,\n",
    "                      title='Normalized confusion matrix, by true label')\n",
    "\n",
    "from matplotlib import rcParams\n",
    "rcParams['figure.figsize'] = [6,6]\n",
    "plt.show()"
   ]
  },
  {
   "cell_type": "markdown",
   "metadata": {
    "colab_type": "text",
    "id": "eWxUv9Y2oycX"
   },
   "source": [
    "### Inspect misclassified examples\n",
    "By looking at those examples that were misclassified, we can better understand what the classifier has learned and how it could potentially be improved. In our case, each misclassified example is either (i) a message marked as 'spam' although it was actually 'ham' (i.e., a false positive) or (ii) a message marked as 'ham' although it was actually 'spam' (i.e., a false negative). It is largely domain-dependent to determine how to balance the cost of a false negative versus a false positive, and which we'd prefer our model to try to avoid."
   ]
  },
  {
   "cell_type": "code",
   "execution_count": null,
   "metadata": {
    "colab": {
     "base_uri": "https://localhost:8080/",
     "height": 1000
    },
    "colab_type": "code",
    "id": "F3rhieJyW9hL",
    "outputId": "760f8da6-fe59-48bb-c7a7-a93220715256"
   },
   "outputs": [],
   "source": [
    "# Show misclassified examples\n",
    "test_examples = pd.DataFrame({'test_labels': test_labels, 'predicted_labels': predicted_labels}).merge(df['sms_message'], left_index = True, right_index=True)\n",
    "\n",
    "misclassified_fp = test_examples.query('(test_labels != predicted_labels) & (predicted_labels == \"spam\")')\n",
    "misclassified_fn = test_examples.query('(test_labels != predicted_labels) & (predicted_labels == \"ham\")')\n",
    "\n",
    "print('False positives (marked as spam, but actually ham):')\n",
    "print(misclassified_fp['sms_message'].to_string(index=False))\n",
    "print('\\n')\n",
    "print('False negatives (marked as ham, but actually spam):')\n",
    "print(misclassified_fn['sms_message'].to_string(index=False))"
   ]
  },
  {
   "cell_type": "markdown",
   "metadata": {
    "colab_type": "text",
    "id": "_1pOJvL2pMma"
   },
   "source": [
    "### Explain model results by analyzing feature importance\n",
    "Finally, we would like to inspect our trained model more closely to try to determine how it is making its predictions. This largely depends entirely on the model we are training, although there are several model-agnostic methods for interpretability that we won't discuss here."
   ]
  },
  {
   "cell_type": "markdown",
   "metadata": {
    "colab_type": "text",
    "id": "UstCLLlmLL7O"
   },
   "source": [
    "#### Random forest (or decision trees)"
   ]
  },
  {
   "cell_type": "code",
   "execution_count": null,
   "metadata": {
    "colab": {
     "base_uri": "https://localhost:8080/",
     "height": 1000
    },
    "colab_type": "code",
    "id": "azhbB69KrBY3",
    "outputId": "0caeb0a7-cefa-406c-f7a6-297f35ca272a"
   },
   "outputs": [],
   "source": [
    "import pandas as pd\n",
    "import random\n",
    "\n",
    "if classifier_type in ['decision tree', 'random forest']:\n",
    "\n",
    "    # Compute feature importances\n",
    "    importance_scores = classifier.feature_importances_\n",
    "    feature_importances = pd.DataFrame(importance_scores, index = features,\n",
    "                                columns=['importance']).sort_values('importance', ascending=False)\n",
    "\n",
    "    print('Top features based on (averaged) Gini index:')\n",
    "    print(feature_importances[:20])\n",
    "\n",
    "    # Extract (sample) decision tree\n",
    "    if classifier_type == 'decision tree':\n",
    "        sample_tree = classifier\n",
    "    if classifier_type == 'random forest':\n",
    "        sample_tree = random.choice(classifier.estimators_)\n",
    "\n",
    "    # Plot decision tree\n",
    "    from sklearn.tree import plot_tree\n",
    "    plot_tree(sample_tree, feature_names=features, filled=True)\n",
    "\n",
    "    from matplotlib import rcParams\n",
    "    rcParams['figure.figsize'] = [18,10]\n",
    "    print('\\n')\n",
    "    print('(Sampled) decision tree:')\n",
    "    plt.show()\n",
    "\n",
    "else:\n",
    "    print(\"Invalid: Train tree-based classifier.\")"
   ]
  },
  {
   "cell_type": "markdown",
   "metadata": {
    "colab_type": "text",
    "id": "k7SwmE5FLJGE"
   },
   "source": [
    "#### Logistic regression"
   ]
  },
  {
   "cell_type": "code",
   "execution_count": null,
   "metadata": {
    "colab": {
     "base_uri": "https://localhost:8080/",
     "height": 0
    },
    "colab_type": "code",
    "id": "qRe-hJRzKxoU",
    "outputId": "85643e99-b280-4737-e5fa-2ee13750f7d2"
   },
   "outputs": [],
   "source": [
    "import pandas as pd\n",
    "import numpy as np\n",
    "\n",
    "if classifier_type == 'logistic regression':\n",
    "\n",
    "    # CompUte feature importances\n",
    "    importance_scores = np.transpose(classifier.coef_)\n",
    "    feature_importances = pd.DataFrame(importance_scores, index = features,\n",
    "                                columns=['importance']).sort_values('importance', ascending=False)\n",
    "\n",
    "    # Display most important features for each class\n",
    "    print('Features that favor spam class:')\n",
    "    print(feature_importances[:10])\n",
    "    print('\\n')\n",
    "    print('Features that favor ham class:')\n",
    "    print(feature_importances[-10:])\n",
    "\n",
    "else:\n",
    "    print(\"Invalid: Train logistic regression classifier.\")"
   ]
  }
 ],
 "metadata": {
  "colab": {
   "collapsed_sections": [
    "FFosuvImdrg0",
    "RQAuX8igWOx9",
    "k7SwmE5FLJGE"
   ],
   "name": "labdemo.ipynb",
   "provenance": []
  },
  "kernelspec": {
   "display_name": "Python 3.8.10 64-bit (microsoft store)",
   "language": "python",
   "name": "python3"
  },
  "language_info": {
   "codemirror_mode": {
    "name": "ipython",
    "version": 3
   },
   "file_extension": ".py",
   "mimetype": "text/x-python",
   "name": "python",
   "nbconvert_exporter": "python",
   "pygments_lexer": "ipython3",
   "version": "3.8.10"
  },
  "vscode": {
   "interpreter": {
    "hash": "596935ea77931a3d3a0f7fec3d718aec427de1a662ceaadd9ccf6b25c30472da"
   }
  }
 },
 "nbformat": 4,
 "nbformat_minor": 1
}
