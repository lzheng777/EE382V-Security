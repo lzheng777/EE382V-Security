{
  "nbformat": 4,
  "nbformat_minor": 0,
  "metadata": {
    "colab": {
      "provenance": [],
      "collapsed_sections": []
    },
    "kernelspec": {
      "name": "python3",
      "display_name": "Python 3"
    },
    "language_info": {
      "name": "python"
    }
  },
  "cells": [
    {
      "cell_type": "code",
      "source": [
        "import os\n",
        "import json\n",
        "import sys\n",
        "import matplotlib.pyplot as plt\n",
        "from datetime import datetime\n",
        "from tabulate import tabulate\n",
        "import ipaddress"
      ],
      "metadata": {
        "id": "1-5_gh7JfVKo"
      },
      "execution_count": 29,
      "outputs": []
    },
    {
      "cell_type": "code",
      "source": [
        "!pip3 install tabulate\n",
        "!pip3 install latextable\n",
        "!pip3 install ipwhois"
      ],
      "metadata": {
        "id": "ivCLcjItP_G4"
      },
      "execution_count": null,
      "outputs": []
    },
    {
      "cell_type": "markdown",
      "source": [
        "part 2"
      ],
      "metadata": {
        "id": "cRERdeL12LDZ"
      }
    },
    {
      "cell_type": "code",
      "source": [
        "from ipwhois import IPWhois\n",
        "from pprint import pprint\n",
        "\n",
        "name_networks = {}\n",
        "\n",
        "def aggregate_ip_networks(file_name):\n",
        "    # mappings = {}\n",
        "    count = 0\n",
        "    # name_networks = {}\n",
        "    with open(file_name) as file:\n",
        "        for ip in file:\n",
        "            results = None\n",
        "            try:\n",
        "                ip = ip.strip()\n",
        "                obj = IPWhois(ip)\n",
        "                results = obj.lookup_rdap(rate_limit_timeout=10)\n",
        "            except:\n",
        "                print(f'error with ip {ip}, count = {count}')\n",
        "                continue\n",
        "            \n",
        "            if results is None:\n",
        "                continue\n",
        "\n",
        "            cidr = results['network']['cidr']\n",
        "            name = results['network']['name']\n",
        "\n",
        "            if name not in name_networks.keys():\n",
        "                name_networks[name] = set()\n",
        "\n",
        "            name_networks[name].add(cidr)\n",
        "            count += 1\n",
        "\n",
        "            if count % 1000 == 0:\n",
        "                with open(f'name_network_map_22_{int(count/1000)}.tmp', 'w') as name_file:\n",
        "                    pprint(name_networks, name_file)\n",
        "    \n",
        "    with open('name_network_map_22', 'w') as name_file:\n",
        "        pprint(name_networks, name_file)\n",
        "\n",
        "    print(f'done running lookup for {count} ips')\n",
        "\n",
        "def lookup_ranges(port_map):\n",
        "    count = 0\n",
        "    asn_map = {}\n",
        "    asn_entity_map = {}\n",
        "    for name, ranges in port_map.items():\n",
        "        if name is 'None':\n",
        "            continue\n",
        "\n",
        "        ip = ranges[0]\n",
        "\n",
        "        results = None\n",
        "        try:\n",
        "            ip = ip.strip()\n",
        "            ip = ip.split('/')[0]\n",
        "            obj = IPWhois(ip)\n",
        "            results = obj.lookup_rdap(rate_limit_timeout=5)\n",
        "        except:\n",
        "            print(f'error with ip {ip}, count = {count}')\n",
        "            continue\n",
        "\n",
        "        asn_map[results['asn']] = ranges\n",
        "        asn_entity_map[results['asn']] = results['entities']\n",
        "\n",
        "        count += 1\n",
        "\n",
        "    pprint(count)\n",
        "\n",
        "    with open('asn_map', 'w') as name_file:\n",
        "        pprint(asn_map, name_file)\n",
        "    \n",
        "    with open('asn_entity_map', 'w') as name_file:\n",
        "        pprint(asn_entity_map, name_file)\n",
        "\n",
        "\n",
        "if __name__ == '__main__':\n",
        "    # aggregate_ip_networks('results.csv')\n",
        "    lookup_ranges(port_80)"
      ],
      "metadata": {
        "id": "tmYad6Ch2DbQ"
      },
      "execution_count": null,
      "outputs": []
    },
    {
      "cell_type": "code",
      "source": [
        "count = 0\n",
        "with open('results22.csv') as file:\n",
        "    count = 0\n",
        "    for ip in file:\n",
        "        count += 1\n",
        "\n",
        "with open('results22.csv') as file:\n",
        "    count = 0\n",
        "    for ip in file:\n",
        "        count += 1"
      ],
      "metadata": {
        "colab": {
          "base_uri": "https://localhost:8080/"
        },
        "id": "unobAHLQGjox",
        "outputId": "f691caa5-5143-456d-96d1-a3483a7bc0c9"
      },
      "execution_count": 58,
      "outputs": [
        {
          "output_type": "execute_result",
          "data": {
            "text/plain": [
              "4569"
            ]
          },
          "metadata": {},
          "execution_count": 58
        }
      ]
    },
    {
      "cell_type": "code",
      "source": [
        "with open('name_network_map.json', 'w') as fn:\n",
        "    print(name_networks, file=fn)\n",
        "\n",
        "with open('name_network_map_22.json', 'r') as file:\n",
        "    new_map = json.loads(file.read())\n",
        "    print(new_map)\n",
        "    network_22 = new_map"
      ],
      "metadata": {
        "id": "-1up1xkzVT1h"
      },
      "execution_count": null,
      "outputs": []
    },
    {
      "cell_type": "code",
      "source": [
        "with open('asn_map', 'r') as file:\n",
        "    new_map = json.loads(file.read())\n",
        "    print(new_map)"
      ],
      "metadata": {
        "id": "vAKBH1InrD3A"
      },
      "execution_count": null,
      "outputs": []
    },
    {
      "cell_type": "code",
      "source": [
        "all_cidrs = set()\n",
        "\n",
        "network_arr = {}\n",
        "\n",
        "for k in network_80.keys():\n",
        "    arr = []\n",
        "    for cidr in network_80[k]:\n",
        "        arr.append(cidr)\n",
        "        all_cidrs.add(cidr)\n",
        "\n",
        "    network_arr[k] = arr"
      ],
      "metadata": {
        "id": "9jkYmz6vr8SF"
      },
      "execution_count": null,
      "outputs": []
    },
    {
      "cell_type": "code",
      "source": [
        "network_22 = set()\n",
        "\n",
        "with open('results22.csv', 'r') as file:\n",
        "    for line in file:\n",
        "        network_22.add(line.strip())\n",
        "\n",
        "len(network_22)"
      ],
      "metadata": {
        "id": "uh886XmUsqQC"
      },
      "execution_count": null,
      "outputs": []
    },
    {
      "cell_type": "code",
      "source": [
        "port22_ips = {}\n",
        "num_networks = 0\n",
        "for name, cidr in network_22.items():\n",
        "    for network in cidr:\n",
        "        # ip_network = ipaddress.ip_network(network)\n",
        "        networks = network.split(',')\n",
        "        l = []\n",
        "        for nw in networks:\n",
        "            l.append(nw.strip())\n",
        "            num_networks += 1\n",
        "        port22_ips[name] = l"
      ],
      "metadata": {
        "id": "tWy6R462_oke"
      },
      "execution_count": null,
      "outputs": []
    },
    {
      "cell_type": "code",
      "source": [
        "num_networks"
      ],
      "metadata": {
        "colab": {
          "base_uri": "https://localhost:8080/"
        },
        "id": "XrOZHO39AvtN",
        "outputId": "24be35d7-1c83-4418-8a8f-1dff1f1904fe"
      },
      "execution_count": null,
      "outputs": [
        {
          "output_type": "execute_result",
          "data": {
            "text/plain": [
              "3071"
            ]
          },
          "metadata": {},
          "execution_count": 52
        }
      ]
    },
    {
      "cell_type": "code",
      "source": [
        "with open('port22_map', 'w') as file:\n",
        "    file.write(json.dumps(port22_ips))"
      ],
      "metadata": {
        "id": "RJoE7aDdADLR"
      },
      "execution_count": null,
      "outputs": []
    },
    {
      "cell_type": "code",
      "source": [
        "with open('port80_map', 'r') as file:\n",
        "    network_80 = json.loads(file.read())\n",
        "\n",
        "with open('port22_map', 'r') as file:\n",
        "    network_22 = json.loads(file.read())"
      ],
      "metadata": {
        "id": "eUbSkpswAZks"
      },
      "execution_count": 30,
      "outputs": []
    },
    {
      "cell_type": "code",
      "source": [
        "truncated_80 = {}\n",
        "for name, cidrs in network_80.items():\n",
        "    # if len(cidrs) not in truncated_80.keys():\n",
        "        # truncated_80[len(cidrs)] = 0\n",
        "    # truncated_80[len(cidrs)] += 1\n",
        "    truncated_80[name] = len(cidrs)\n",
        "\n",
        "# pprint(truncated_80)\n",
        "table_80 = []\n",
        "for k, v in sorted(truncated_80.items(), key= lambda item: item[1], reverse=True):\n",
        "    if len(table_80) == 10:\n",
        "        break\n",
        "    table_80.append([k, v])\n",
        "\n",
        "truncated_22 = {}\n",
        "for name, cidrs in network_22.items():\n",
        "    # if len(cidrs) not in truncated_22.keys():\n",
        "    #     truncated_22[len(cidrs)] = 0\n",
        "    # truncated_22[len(cidrs)] += 1\n",
        "    truncated_22[name] = len(cidrs)\n",
        "\n",
        "table_22 = []\n",
        "for k, v in sorted(truncated_22.items(), key= lambda item: item[1], reverse=True):\n",
        "    if len(table_22) == 10:\n",
        "        break\n",
        "    table_22.append([k, v])\n"
      ],
      "metadata": {
        "id": "A8M91i1Ye8Kl"
      },
      "execution_count": 50,
      "outputs": []
    },
    {
      "cell_type": "code",
      "source": [
        "truncated_80 = {}\n",
        "for name, cidrs in network_80.items():\n",
        "    truncated_80[name] = 0\n",
        "    for cidr in cidrs:\n",
        "        truncated_80[name] += ipaddress.IPv4Network(cidr).num_addresses\n",
        "\n",
        "# pprint(truncated_80)\n",
        "table_80 = []\n",
        "for k, v in sorted(truncated_80.items(), key= lambda item: item[1], reverse=True):\n",
        "    if len(table_80) == 10:\n",
        "        break\n",
        "    table_80.append([k, v])\n",
        "\n",
        "truncated_22 = {}\n",
        "for name, cidrs in network_22.items():\n",
        "    truncated_22[name] = 0\n",
        "    for cidr in cidrs:\n",
        "        truncated_22[name] += ipaddress.IPv4Network(cidr).num_addresses\n",
        "\n",
        "table_22 = []\n",
        "for k, v in sorted(truncated_22.items(), key= lambda item: item[1], reverse=True):\n",
        "    if len(table_22) == 10:\n",
        "        break\n",
        "    table_22.append([k, v])"
      ],
      "metadata": {
        "id": "FKgfOcXWBoFw"
      },
      "execution_count": 52,
      "outputs": []
    },
    {
      "cell_type": "code",
      "source": [
        "print(tabulate(table_80, headers=['Owner name', 'Size of unprotected port 80 subnets'], tablefmt='latex'))\n",
        "\n",
        "print(tabulate(table_22, headers=['Owner name', 'Size of unprotected port 22 subnets'], tablefmt='latex'))"
      ],
      "metadata": {
        "colab": {
          "base_uri": "https://localhost:8080/"
        },
        "id": "C9BCQCsKxP5R",
        "outputId": "55517c7a-443a-4529-b18f-c866c8ae0d7c"
      },
      "execution_count": 59,
      "outputs": [
        {
          "output_type": "stream",
          "name": "stdout",
          "text": [
            "\\begin{tabular}{lr}\n",
            "\\hline\n",
            " Owner name        &   Size of unprotected port 80 subnets \\\\\n",
            "\\hline\n",
            " IANA-BLOCK        &                            4294967296 \\\\\n",
            " COGENT-A          &                              16777216 \\\\\n",
            " JPNIC-NET-JP-ERX  &                              16777216 \\\\\n",
            " APNIC-AP          &                              16777216 \\\\\n",
            " ORG-AFNC1-AFRINIC &                              16777216 \\\\\n",
            " CABLE-1           &                              16777216 \\\\\n",
            " ATT               &                              16777216 \\\\\n",
            " APPLE-WWNET       &                              16777216 \\\\\n",
            " NETBLK-CDPD-B     &                               8388608 \\\\\n",
            " CCCH3-4           &                               8388608 \\\\\n",
            "\\hline\n",
            "\\end{tabular}\n",
            "\\begin{tabular}{lr}\n",
            "\\hline\n",
            " Owner name       &   Size of unprotected port 22 subnets \\\\\n",
            "\\hline\n",
            " IANA-BLOCK       &                            4294967296 \\\\\n",
            " JPNIC-NET-JP-ERX &                              16777216 \\\\\n",
            " COGENT-A         &                              16777216 \\\\\n",
            " ATT              &                              16777216 \\\\\n",
            " APNIC-AP         &                              16777216 \\\\\n",
            " AMPRNET          &                              12582912 \\\\\n",
            " AT-88-Z          &                               8388608 \\\\\n",
            " LVLT-ORG-8-8     &                               8388608 \\\\\n",
            " NETBLK-CDPD-B    &                               8388608 \\\\\n",
            " CCCH3-4          &                               8388608 \\\\\n",
            "\\hline\n",
            "\\end{tabular}\n"
          ]
        }
      ]
    },
    {
      "cell_type": "code",
      "source": [
        "count = 0\n",
        "same_network = []\n",
        "\n",
        "shared_network = set()\n",
        "\n",
        "for cidrs in network_80.values():\n",
        "    for ip_net in cidrs:\n",
        "        shared_network.add(ip_net)\n",
        "\n",
        "for cidrs in network_22.values():\n",
        "    for ip_net in cidrs:\n",
        "        if ip_net in shared_network:\n",
        "            count += 1\n",
        "        # shared_network.add(ip_net)\n",
        "\n",
        "print(count)"
      ],
      "metadata": {
        "id": "eHJg_lgKEcV6",
        "colab": {
          "base_uri": "https://localhost:8080/"
        },
        "outputId": "a9442cf6-1b13-4945-9f3b-dd13e1cc7deb"
      },
      "execution_count": 55,
      "outputs": [
        {
          "output_type": "stream",
          "name": "stdout",
          "text": [
            "390\n"
          ]
        }
      ]
    },
    {
      "cell_type": "code",
      "source": [
        "print(network_80['AMAZON'])\n",
        "\n",
        "print(network_22['ATT'])"
      ],
      "metadata": {
        "colab": {
          "base_uri": "https://localhost:8080/"
        },
        "id": "UYlCIgbNLzq4",
        "outputId": "f72652e8-c4cc-4729-b6e2-93f91a23b3ff"
      },
      "execution_count": 66,
      "outputs": [
        {
          "output_type": "stream",
          "name": "stdout",
          "text": [
            "['54.144.0.0/12', '54.160.0.0/11', '54.192.0.0/12', '54.208.0.0/13', '54.216.0.0/14', '54.220.0.0/15']\n",
            "['12.0.0.0/8']\n"
          ]
        }
      ]
    },
    {
      "cell_type": "markdown",
      "source": [
        "part 3"
      ],
      "metadata": {
        "id": "isjAY9wE2FDR"
      }
    },
    {
      "cell_type": "code",
      "execution_count": null,
      "metadata": {
        "id": "18B4_uA5UxMG"
      },
      "outputs": [],
      "source": [
        "def parse_pcap(file_name):\n",
        "    transmission_stats = []\n",
        "    with open(file_name, 'r') as file:\n",
        "        for line in file:\n",
        "            info = line.split()\n",
        "            tcp_line = map_tcp_info(info)\n",
        "\n",
        "            if 'from_site' not in tcp_line.keys() or 'flag' not in tcp_line.keys():\n",
        "                continue\n",
        "\n",
        "            transmission_stats.append(tcp_line)\n",
        "\n",
        "    result_file = file_name.split('.')[0]\n",
        "    with open(result_file + '_result.txt', 'w') as result_file:\n",
        "        for i in transmission_stats:\n",
        "            print(json.dumps(i), file=result_file)\n",
        "\n",
        "    return transmission_stats\n",
        "\n",
        "def map_tcp_info(info):\n",
        "    tcp_map = {}\n",
        "    prev_token = None\n",
        "    for field in info:\n",
        "        field = field.strip()\n",
        "\n",
        "        if field[-1] == ':' or field[-1] == ',':\n",
        "            field = field[:-1]\n",
        "\n",
        "        if prev_token is None:\n",
        "            tcp_map['timestamp'] = field\n",
        "        elif prev_token == 'IP':\n",
        "            tcp_map['src_ip'] = field\n",
        "            if 'https' in field:\n",
        "                tcp_map['from_site'] = True\n",
        "        elif prev_token == '>':\n",
        "            tcp_map['dst_ip'] = field.split(':')[0]\n",
        "            if 'https' in field:\n",
        "                tcp_map['from_site'] = False\n",
        "        elif prev_token == 'Flags':\n",
        "            tcp_map['flag'] = field\n",
        "        elif prev_token == 'length':\n",
        "            tcp_map['length'] = int(field)\n",
        "\n",
        "        prev_token = field\n",
        "    \n",
        "    return tcp_map\n",
        "\n",
        "def plot_info(file_name):\n",
        "    stats = {'pkt_count': [], 'pkt_size': [], 'time': [], 'to_site': [], 'from_site': []}\n",
        "    count = 0\n",
        "    with open(file_name, 'r') as file:\n",
        "        for json_obj in file:\n",
        "            line = json.loads(json_obj)\n",
        "            # time = line['timestamp'] #datetime.strptime(line['timestamp'], '%H:%M:%S.%f').timestamp()\n",
        "            count += 1\n",
        "            stats['pkt_count'].append(count)\n",
        "            # stats['time'].append(time)\n",
        "            stats['pkt_size'].append(line['length'])\n",
        "            stats['to_site'].append(0 if line['from_site'] else 1)\n",
        "            stats['from_site'].append(1 if line['from_site'] else 0)\n",
        "\n",
        "    return stats\n"
      ]
    },
    {
      "cell_type": "code",
      "source": [
        "folders = ['chrome', 'tor', 'vpn']\n",
        "\n",
        "for folder in folders:\n",
        "\n",
        "    file_list = os.listdir(folder)\n",
        "\n",
        "    for file in file_list:\n",
        "        if 'pcap' in file:\n",
        "            continue\n",
        "\n",
        "        ret = parse_pcap(os.path.join(folder, file))\n",
        "        print(f'done {file}')\n",
        "\n",
        "        # if 'result' in file:\n",
        "        # plot_info(ret)"
      ],
      "metadata": {
        "id": "mAATwetlYmtc"
      },
      "execution_count": null,
      "outputs": []
    },
    {
      "cell_type": "code",
      "source": [
        "all_data = {}\n",
        "avg_data = {}\n",
        "\n",
        "for folder in folders:\n",
        "    file_list = os.listdir(folder)\n",
        "    avg_data = {'avg_count': [], 'avg_size': [], 'site': []}\n",
        "    for file_name in file_list:\n",
        "        if 'result.txt' not in file_name:\n",
        "            continue\n",
        "        \n",
        "        data = plot_info(os.path.join(folder, file_name))\n",
        "\n",
        "        sum = 0\n",
        "        count = 0\n",
        "        for line in range(0, data['pkt_count'][-1]):\n",
        "            # if data['to_site'][line] > 0:\n",
        "            sum += data['pkt_size'][line]\n",
        "            count += 1\n",
        "\n",
        "            # if count > (data['pkt_count'][-1] / 10):\n",
        "            #     avg_data['avg_size'].append(sum / count)\n",
        "            #     avg_data['avg_count'].append(count)\n",
        "            #     sum = 0\n",
        "            #     count = 0\n",
        "\n",
        "        avg_data['avg_size'].append(sum / count)\n",
        "        avg_data['avg_count'].append(count / 10)\n",
        "        avg_data['site'].append(file_name.split('_')[0])\n",
        "    \n",
        "    all_data[folder] = avg_data"
      ],
      "metadata": {
        "id": "Kz9xgfXBYsXH"
      },
      "execution_count": null,
      "outputs": []
    },
    {
      "cell_type": "code",
      "source": [
        "rotate_data = {}\n",
        "\n",
        "for conn, data in all_data.items():\n",
        "    rotate_data[conn] = []\n",
        "\n",
        "    for i, site in enumerate(sorted(data['site'])):\n",
        "        # site = data['site'][i]\n",
        "        rotate_data[conn].append([site, data['avg_size'][i], data['avg_count'][i]])\n",
        "\n",
        "    # rotate_data[conn] = dict(sorted(rotate_data[conn].items()))\n",
        "\n",
        "rotate_data"
      ],
      "metadata": {
        "id": "gO4QaMdaMbxc"
      },
      "execution_count": null,
      "outputs": []
    },
    {
      "cell_type": "code",
      "source": [
        "for conn, table in rotate_data.items():\n",
        "    print(conn)\n",
        "    print(tabulate(table, headers=['Site', 'Average packet size (bytes)', 'Average sent packet count'], tablefmt='latex'))"
      ],
      "metadata": {
        "id": "WhX8G_aPNVvu"
      },
      "execution_count": null,
      "outputs": []
    },
    {
      "cell_type": "code",
      "source": [
        "chrome_data = all_data['chrome']\n",
        "vpn_data = all_data['vpn']\n",
        "tor_data = all_data['tor']"
      ],
      "metadata": {
        "id": "KcIx1YABFLTj"
      },
      "execution_count": null,
      "outputs": []
    },
    {
      "cell_type": "code",
      "source": [
        "plt.scatter('avg_count', 'avg_size', data=vpn_data, color='green', label='vpn')\n",
        "plt.scatter('avg_count', 'avg_size', data=chrome_data, color='red', label='chrome')\n",
        "plt.scatter('avg_count', 'avg_size', data=tor_data, color='blue', label='tor')\n",
        "\n",
        "# for i, txt in enumerate(tor_data['site']):\n",
        "    # print(i, txt)\n",
        "    # plt.annotate(txt, (tor_data['avg_count'][i], tor_data['avg_size'][i]))\n",
        "\n",
        "plt.legend()\n",
        "\n",
        "plt.xlabel('Average number of packets (total)')\n",
        "plt.ylabel('Average size of packets (bytes)')\n",
        "plt.title('Stats for total packets per site')\n",
        "# plt.show()\n",
        "plt.savefig('full_plot_2')"
      ],
      "metadata": {
        "colab": {
          "base_uri": "https://localhost:8080/",
          "height": 295
        },
        "id": "CqPx-8iEfzzL",
        "outputId": "45a88ca3-af7e-4b7a-f722-2b2dab9e0205"
      },
      "execution_count": null,
      "outputs": [
        {
          "output_type": "display_data",
          "data": {
            "text/plain": [
              "<Figure size 432x288 with 1 Axes>"
            ],
            "image/png": "[encoded data removed]"
          },
          "metadata": {
            "needs_background": "light"
          }
        }
      ]
    }
  ]
}